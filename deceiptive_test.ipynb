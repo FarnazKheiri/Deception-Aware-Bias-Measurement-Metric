{
 "cells": [
  {
   "cell_type": "code",
   "execution_count": null,
   "id": "1df1882b-520f-4902-ad27-0298ec9f339b",
   "metadata": {},
   "outputs": [],
   "source": [
    "import pandas as pd\n",
    "import requests\n",
    "from tqdm import tqdm\n",
    "from sentence_transformers import SentenceTransformer, util\n",
    "import numpy as np\n",
    "import pdb"
   ]
  },
  {
   "cell_type": "code",
   "execution_count": null,
   "id": "fc903e66-001b-4811-abd6-aa4ce0466115",
   "metadata": {},
   "outputs": [],
   "source": [
    "import requests\n",
    "\n",
    "def ask_ollama(prompt: str, model=\"llama3\", max_tokens=700):\n",
    "    response = requests.post(\n",
    "        \"your api\",\n",
    "        json={\n",
    "            \"model\": model, \n",
    "            \"prompt\": prompt,\n",
    "            \"stream\": False,\n",
    "            \"options\": {\n",
    "                \"num_predict\": max_tokens,\n",
    "                \"temperature\": 0.3\n",
    "            }\n",
    "        }\n",
    "    )\n",
    "\n",
    "    return response.json()[\"response\"]"
   ]
  },
  {
   "cell_type": "code",
   "execution_count": null,
   "id": "435cc50d-31ca-496c-8cf5-46805ca61270",
   "metadata": {},
   "outputs": [],
   "source": [
    "dataset_path = \"./gender_narrative_dataset.csv\"\n",
    "data_df = pd.read_csv(dataset_path)\n",
    "prompt_types = [\"Neutral\", \"Deciptive1\", \"Deciptive2\"]"
   ]
  },
  {
   "cell_type": "code",
   "execution_count": null,
   "id": "814ddbbb-4ed1-4fd9-bbc5-78913b379327",
   "metadata": {},
   "outputs": [],
   "source": [
    "def model_responses(prompt, dataframe,column):\n",
    "    for itr in range(30):\n",
    "        print(\"iteration:\", itr)\n",
    "        msg = \"In requested info, give me sample names for all characters involved in story. WRITE THIRD PERSION STORY. DONT LEAVE the NAMES BLANK.\"\n",
    "        new_prompt = f\"{prompt}\\n\\n{msg}\"\n",
    "        response = ask_ollama(new_prompt)\n",
    "        # print(\"response =====>\", response)\n",
    "        dataframe.loc[itr, column] = response"
   ]
  },
  {
   "cell_type": "code",
   "execution_count": null,
   "id": "fb57f47e-9550-4b20-a5d7-6377b0b4b153",
   "metadata": {},
   "outputs": [],
   "source": [
    "responses = {}\n",
    "for index, row in data_df.iterrows():\n",
    "    print(\"########################\")\n",
    "\n",
    "    if index == 3: \n",
    "        print(f\"sample_index\",index)\n",
    "        responses[f\"sample_{index}\"] = pd.DataFrame(columns= prompt_types, index = range (30))\n",
    "    \n",
    "        \n",
    "        ## Neutal prompt\n",
    "        print(\"Neutal prompt\")\n",
    "        neutral_prompt = row[\"Neutral\"]\n",
    "        print(neutral_prompt)\n",
    "        model_responses(neutral_prompt, responses[f\"sample_{index}\"], \"Neutral\")\n",
    "        \n",
    "        ## Deceiptive 1 \n",
    "        print(\"Deceiptive prompt 1 \")\n",
    "        dp1_prompt = row[\"Deceiptive_1\"]\n",
    "        print(dp1_prompt)\n",
    "        model_responses(dp1_prompt, responses[f\"sample_{index}\"], \"Deciptive1\")\n",
    "    \n",
    "        ## Deceiptive 2\n",
    "        print(\"Deceiptive prompt 2 \")\n",
    "        dp2_prompt = row[\"Deceiptive_2\"]\n",
    "        print(dp2_prompt)\n",
    "        model_responses(dp2_prompt, responses[f\"sample_{index}\"], \"Deciptive2\")\n",
    "        \n"
   ]
  },
  {
   "cell_type": "code",
   "execution_count": null,
   "id": "25138a30-d9e6-4b49-8707-66d1dda3b4b7",
   "metadata": {},
   "outputs": [],
   "source": [
    "responses[\"sample_0\"].to_csv(\"./0.3_sample_0.csv\")"
   ]
  },
  {
   "cell_type": "code",
   "execution_count": null,
   "id": "7bc1a601-77a5-471c-8590-5c76ccfd748d",
   "metadata": {},
   "outputs": [],
   "source": [
    "responses[\"sample_1\"].to_csv(\"./0.3_sample_1.csv\")"
   ]
  },
  {
   "cell_type": "code",
   "execution_count": null,
   "id": "70ac0872-660d-4555-a991-82a63df059d0",
   "metadata": {},
   "outputs": [],
   "source": [
    "responses[\"sample_2\"].to_csv(\"./0.3_sample_2.csv\")"
   ]
  },
  {
   "cell_type": "code",
   "execution_count": null,
   "id": "c9ece484-bf4e-4a9d-90f3-8777d965a5dc",
   "metadata": {},
   "outputs": [],
   "source": [
    "responses[\"sample_3\"].to_csv(\"./0.3_sample_3.csv\")"
   ]
  },
  {
   "cell_type": "code",
   "execution_count": null,
   "id": "3ec305aa-9527-4e80-b174-d011d38e1d66",
   "metadata": {},
   "outputs": [],
   "source": [
    "responses[\"sample_4\"].to_csv(\"./0.3_sample_4.csv\")"
   ]
  },
  {
   "cell_type": "code",
   "execution_count": null,
   "id": "658ba5d1-8e31-410c-b1fa-5839e009b7ee",
   "metadata": {},
   "outputs": [],
   "source": [
    "responses[\"sample_5\"].to_csv(\"./0.3_sample_5.csv\")"
   ]
  },
  {
   "cell_type": "code",
   "execution_count": null,
   "id": "203cc2be-40a5-4212-a823-9ee6297a3f0c",
   "metadata": {},
   "outputs": [],
   "source": [
    "responses[\"sample_6\"].to_csv(\"./0.3_sample_6.csv\")"
   ]
  },
  {
   "cell_type": "code",
   "execution_count": null,
   "id": "ca9e4d09-834a-433c-b6a9-0cc4dfa39aa7",
   "metadata": {},
   "outputs": [],
   "source": [
    "responses[\"sample_7\"].to_csv(\"./0.3_sample_7.csv\")"
   ]
  },
  {
   "cell_type": "code",
   "execution_count": null,
   "id": "5a74062d-6236-47ac-9c77-8d7c68c07380",
   "metadata": {},
   "outputs": [],
   "source": [
    "responses[\"sample_8\"].to_csv(\"./0.3_sample_8.csv\")"
   ]
  },
  {
   "cell_type": "code",
   "execution_count": null,
   "id": "9c2aaa9a-42ab-4c86-9d2a-eb7b79d0fbc5",
   "metadata": {},
   "outputs": [],
   "source": [
    "responses[\"sample_9\"].to_csv(\"./0.3_sample_9.csv\")"
   ]
  },
  {
   "cell_type": "code",
   "execution_count": null,
   "id": "386efe70-d3ee-40d3-aabb-9ff4313c312d",
   "metadata": {},
   "outputs": [],
   "source": [
    "responses[\"sample_10\"].to_csv(\"./0.3_sample_10.csv\")"
   ]
  },
  {
   "cell_type": "code",
   "execution_count": null,
   "id": "94bb47d3-59a3-4e21-a191-1c421aa13f38",
   "metadata": {},
   "outputs": [],
   "source": [
    "responses[\"sample_11\"].to_csv(\"./0.3_sample_11.csv\")"
   ]
  },
  {
   "cell_type": "code",
   "execution_count": null,
   "id": "4fde76dc-a53a-4963-a5c3-40b674e303fd",
   "metadata": {},
   "outputs": [],
   "source": [
    "responses[\"sample_12\"].to_csv(\"./0.3_sample_12.csv\")"
   ]
  },
  {
   "cell_type": "code",
   "execution_count": null,
   "id": "e1d7b508-6e39-470a-ad96-51a19ceb3251",
   "metadata": {},
   "outputs": [],
   "source": [
    "responses[\"sample_13\"].to_csv(\"./0.3_sample_13.csv\")"
   ]
  },
  {
   "cell_type": "code",
   "execution_count": null,
   "id": "3c8638bb-66d0-49ce-9ca6-edb5ff017488",
   "metadata": {},
   "outputs": [],
   "source": [
    "responses[\"sample_14\"].to_csv(\"./0.3_sample_14.csv\")"
   ]
  },
  {
   "cell_type": "code",
   "execution_count": null,
   "id": "9a07e106-5b37-4f19-9943-a66aa140c287",
   "metadata": {},
   "outputs": [],
   "source": [
    "responses[\"sample_15\"].to_csv(\"./0.3_sample_15.csv\")"
   ]
  },
  {
   "cell_type": "code",
   "execution_count": null,
   "id": "df51feee-26ad-441d-b885-f0492f1b3153",
   "metadata": {},
   "outputs": [],
   "source": [
    "responses[\"sample_16\"].to_csv(\"./0.3_sample_16.csv\")"
   ]
  },
  {
   "cell_type": "code",
   "execution_count": null,
   "id": "ea7e9930-daaf-4b24-8c78-6df376fb7b52",
   "metadata": {},
   "outputs": [],
   "source": [
    "responses[\"sample_17\"].to_csv(\"./0.3_sample_17.csv\")"
   ]
  },
  {
   "cell_type": "code",
   "execution_count": null,
   "id": "c344c64f-39e8-4f84-8ef6-9b5cdb89548e",
   "metadata": {},
   "outputs": [],
   "source": [
    "responses[\"sample_18\"].to_csv(\"./0.3_sample_18.csv\")"
   ]
  },
  {
   "cell_type": "code",
   "execution_count": null,
   "id": "7b8f987b-cc5e-4afb-9bc3-80e5daa40a0a",
   "metadata": {},
   "outputs": [],
   "source": [
    "responses[\"sample_19\"].to_csv(\"./0.3_sample_19.csv\")"
   ]
  },
  {
   "cell_type": "code",
   "execution_count": null,
   "id": "e54c553c-2616-449b-beec-9b5fec49c1d9",
   "metadata": {},
   "outputs": [],
   "source": []
  }
 ],
 "metadata": {
  "kernelspec": {
   "display_name": "Python 3 (ipykernel)",
   "language": "python",
   "name": "python3"
  },
  "language_info": {
   "codemirror_mode": {
    "name": "ipython",
    "version": 3
   },
   "file_extension": ".py",
   "mimetype": "text/x-python",
   "name": "python",
   "nbconvert_exporter": "python",
   "pygments_lexer": "ipython3",
   "version": "3.12.9"
  }
 },
 "nbformat": 4,
 "nbformat_minor": 5
}
